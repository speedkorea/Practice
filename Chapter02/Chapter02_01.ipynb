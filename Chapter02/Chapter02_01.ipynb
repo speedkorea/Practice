{
 "cells": [
  {
   "cell_type": "markdown",
   "id": "78c9bef1-fdc3-4775-88b3-e7784e765d56",
   "metadata": {
    "tags": []
   },
   "source": [
    "## 1.3 Numpy"
   ]
  },
  {
   "cell_type": "markdown",
   "id": "ba104395-70c1-42cc-a5db-42a58e63df5e",
   "metadata": {},
   "source": [
    "#### ndarray 생성 \n",
    ">- Numpy 모듈의 array() 함수로 생성\n",
    ">- 인자로 주로 파이썬 List 또는 ndarray 입력\n",
    ">- ndarray의 shape는 ndarray.shape 속성으로, 차원은 ndarray.ndim으로, 데이터타입은 ndarray.dtype으로 확인\n",
    ">- astype() 함수는 원하는 데이터 타입으로 변경 "
   ]
  },
  {
   "cell_type": "code",
   "execution_count": null,
   "id": "eb5231b9-7948-4e22-95ab-8b6c811b940f",
   "metadata": {},
   "outputs": [],
   "source": [
    "import numpy as np\n",
    "\n",
    "list1 = [1, 2, 3]\n",
    "print(list1)\n",
    "array1 = np.array(list1)\n",
    "print('array1 type :', type(array1))\n",
    "print('array1 shape:', array1.shape)"
   ]
  },
  {
   "cell_type": "code",
   "execution_count": null,
   "id": "9a9f1643-8d59-4809-8914-f18c2d6ed993",
   "metadata": {
    "tags": []
   },
   "outputs": [],
   "source": [
    "array2 = np.array([[1, 2, 3],\n",
    "                   [2, 3, 4]])\n",
    "print('array2 type :', type(array2))\n",
    "print('array2 shape:', array2.shape)"
   ]
  },
  {
   "cell_type": "code",
   "execution_count": null,
   "id": "7c8f59fc-32c3-43b6-8133-1126980f18d2",
   "metadata": {},
   "outputs": [],
   "source": [
    "array3 = np.array([[1, 3, 3]])         # 중첩 List\n",
    "print('array3 type :', type(array3))\n",
    "print('array3 shape:', array3.shape)"
   ]
  },
  {
   "cell_type": "code",
   "execution_count": null,
   "id": "c011e59f-b9c1-48dc-9199-b1c1bfa16bc7",
   "metadata": {},
   "outputs": [],
   "source": [
    "print('array1: {:0} 차원, array2: {:1} 차원, array3: {:2} 차원'.format(array1.ndim, array2.ndim, array3.ndim))"
   ]
  },
  {
   "cell_type": "markdown",
   "id": "3560ef4f-56db-49a6-aa6f-507a31f7461d",
   "metadata": {},
   "source": [
    "#### ndarray 데이터 타입"
   ]
  },
  {
   "cell_type": "code",
   "execution_count": null,
   "id": "d8e76a21-7b50-40e5-990a-58c48eb226e0",
   "metadata": {},
   "outputs": [],
   "source": [
    "list1 = [1, 2, 3]\n",
    "print(list1)\n",
    "array1 = np.array(list1)\n",
    "print('list type         :', type(list1))\n",
    "print('array1 array type :', type(array1))\n",
    "print('array1 data type  :', array1.dtype)"
   ]
  },
  {
   "cell_type": "code",
   "execution_count": null,
   "id": "16401813-5bdb-4bb7-a6a3-b22f7fd9daff",
   "metadata": {},
   "outputs": [],
   "source": [
    "list2 = [1, 2, 'test']\n",
    "array2 = np.array(list2)\n",
    "print(array2, array2.dtype)"
   ]
  },
  {
   "cell_type": "code",
   "execution_count": null,
   "id": "410c36e2-64d5-4b39-a1c9-7a548f0cac6f",
   "metadata": {},
   "outputs": [],
   "source": [
    "list3 = [1, 2, 3.0]\n",
    "array3 = np.array(list3)\n",
    "print(array3, array3.dtype)"
   ]
  },
  {
   "cell_type": "code",
   "execution_count": null,
   "id": "b152d3ea-6687-4ee4-804e-966d5fe46dca",
   "metadata": {},
   "outputs": [],
   "source": [
    "array_int = np.array([1, 2, 3])\n",
    "array_float = array_int.astype('float64')\n",
    "print(array_float, array_float.dtype)"
   ]
  },
  {
   "cell_type": "code",
   "execution_count": null,
   "id": "90746b8c-1694-444a-a1cc-3f384f5482c9",
   "metadata": {},
   "outputs": [],
   "source": [
    "array_int1 = array_float.astype('int32')\n",
    "print(array_int1, array_int1.dtype)"
   ]
  },
  {
   "cell_type": "code",
   "execution_count": null,
   "id": "87032e6d-8d96-4f03-a1bf-0731aa815497",
   "metadata": {},
   "outputs": [],
   "source": [
    "array_float1 = np.array([1.1, 2.2, 3.3])\n",
    "array_int2 = array_float1.astype(np.int32)\n",
    "print(array_int2, array_int2.dtype)"
   ]
  },
  {
   "cell_type": "markdown",
   "id": "6ec3f2dc-2745-4443-9e14-88d6dd3acb50",
   "metadata": {},
   "source": [
    "#### ndarray 초기화 - arange(), zeros(), ones()"
   ]
  },
  {
   "cell_type": "code",
   "execution_count": null,
   "id": "d4d54829-2147-433c-8bd5-6e2934aeba64",
   "metadata": {},
   "outputs": [],
   "source": [
    "sequence_array = np.arange(10)\n",
    "print(sequence_array)\n",
    "print(sequence_array.dtype, sequence_array.shape)"
   ]
  },
  {
   "cell_type": "code",
   "execution_count": null,
   "id": "d851d67e-7477-4f75-8764-ec37e6162852",
   "metadata": {},
   "outputs": [],
   "source": [
    "# (3,2) shape을 가지는 모든 원소가 0, dytpe은 int32인 ndarray 생성\n",
    "zero_array = np.zeros((3,2), dtype='int32')\n",
    "print(zero_array)\n",
    "print(zero_array.dtype, zero_array.shape)"
   ]
  },
  {
   "cell_type": "code",
   "execution_count": null,
   "id": "99dab83d-2164-4eec-ba94-5be2fe4044c4",
   "metadata": {},
   "outputs": [],
   "source": [
    "# (3, 2) shape을 가지는 모든 원소가 1인 ndarray 생성\n",
    "one_array = np.ones((3,2))\n",
    "print(one_array)\n",
    "print(one_array.dtype, one_array.shape)"
   ]
  },
  {
   "cell_type": "markdown",
   "id": "63d747d2-6380-438d-8ef4-1c79de40bd61",
   "metadata": {},
   "source": [
    "#### ndarray 차원과 크기 변경 - reshape()\n",
    ">- 인자에 -1를 부여하면, -1에 해당하는 axis의 키그는 가변 크기로 shape을 변환\n",
    ">- reshape(-1, 1) vs. reshape(-1,) "
   ]
  },
  {
   "cell_type": "code",
   "execution_count": null,
   "id": "d81cffd5-2bfc-4919-87d3-3168cb90c263",
   "metadata": {},
   "outputs": [],
   "source": [
    "array1 = np.arange(10)\n",
    "print(\"array1: \\n\", array1)\n",
    "      \n",
    "# (2, 5) Shape으로 변환\n",
    "array2 = array1.reshape(2, 5)\n",
    "print(\"array2: \\n\", array2)\n",
    "\n",
    "# (5, 2) Shape으로 변환\n",
    "array3 = array2.reshape(5, 2)\n",
    "print(\"array3: \\n\", array3)"
   ]
  },
  {
   "cell_type": "code",
   "execution_count": null,
   "id": "9853e4dc-cb44-4b31-b9cb-1c7adfb7c5e5",
   "metadata": {},
   "outputs": [],
   "source": [
    "# array1.reshape(4, 3)      # ValueError: cannot reshape array of size 10 into shape (4,3)"
   ]
  },
  {
   "cell_type": "code",
   "execution_count": null,
   "id": "61b2c107-591c-47c6-bc1c-e3c9065718e8",
   "metadata": {},
   "outputs": [],
   "source": [
    "array1 = np.arange(10)\n",
    "print(array1)\n",
    "\n",
    "array2 = array1.reshape(-1, 5)\n",
    "print(array2)\n",
    "\n",
    "array3 = array1.reshape(5, -1)\n",
    "print(array3)"
   ]
  },
  {
   "cell_type": "code",
   "execution_count": null,
   "id": "fbb1ef1f-e963-4310-bf18-2c510ce52886",
   "metadata": {},
   "outputs": [],
   "source": [
    "# array4 = array1.reshape(-1, 4)    # ValueError: cannot reshape array of size 10 into shape (4)"
   ]
  },
  {
   "cell_type": "code",
   "execution_count": null,
   "id": "9d3ce2c9-58b6-4089-a116-94a3a701c144",
   "metadata": {},
   "outputs": [],
   "source": [
    "array1 = np.arange(8)\n",
    "array3d = array1.reshape((2, 2, 2))\n",
    "print(\"array3d: \\n\", array3d.tolist())\n",
    "\n",
    "# 3차원 ndarray를 2차원 ndarray로 변환 & 컬럼수는 1\n",
    "array5 = array3d.reshape(-1, 1)\n",
    "print(\"array5: \\n\", array5.tolist())\n",
    "print(\"array5 shape: \", array5.shape)\n",
    "\n",
    "# 1차원 ndarray를 2차원 ndarray로 변환 & 컬럼수는 2\n",
    "array6 = array1.reshape(-1, 1)\n",
    "print(\"array6: \\n\", array6.tolist())\n",
    "print(\"array6 shape: \", array6.shape)"
   ]
  },
  {
   "cell_type": "code",
   "execution_count": null,
   "id": "22b09e6f-f6f4-42c6-961f-2adc411bea3b",
   "metadata": {},
   "outputs": [],
   "source": [
    "# 3차원 ndarray를 1차원 ndarray로 변환\n",
    "array7 = array3d.reshape(-1,)\n",
    "print(array7)"
   ]
  },
  {
   "cell_type": "markdown",
   "id": "77fe72d3-7c9b-4ad5-9921-4f4b8ed704c4",
   "metadata": {},
   "source": [
    "#### ndarray  데이터 세트 선택 - indexing\n",
    ">- Slicing : 연속된 index의 ndarray를 추축하는 방식. \"시작 Index : 종료 Index\"로 표시하며, 시작 Index에서 종료 Index-1 위치에 있는 ndarray를 반환\n",
    ">- Fancy Indexing : Indexing 집합을 List or ndarray 형태로 지정하여 해당 위치에 있는 ndarray를 반환\n",
    ">- Boolean Indexing : True/False 값 Indexing 집합을 기반으로 True에 해당하는 Index 위치에 있는 ndarray를 반환"
   ]
  },
  {
   "cell_type": "code",
   "execution_count": null,
   "id": "25084e63-ed9e-47e6-b90f-6d748416107a",
   "metadata": {},
   "outputs": [],
   "source": [
    "# 단일 Indexing\n",
    "# 1에서 9가지의 1차원 ndarray\n",
    "array1 = np.arange(start=1, stop=10)\n",
    "print(\"array1: \", array1)\n",
    "\n",
    "# index는 0부터 시작. array1[2]는 3번째 index 위치의 데이터 값을 의미\n",
    "value = array1[2]\n",
    "print(\"value: \", value)\n",
    "print(type(value))"
   ]
  },
  {
   "cell_type": "code",
   "execution_count": null,
   "id": "b2257883-0af9-45b2-b204-a0ef06a3ea1e",
   "metadata": {},
   "outputs": [],
   "source": [
    "print(\"맨 뒤의 값: \", array1[-1], \", 맨 뒤에서 두 번째 값: \", array1[-2])"
   ]
  },
  {
   "cell_type": "code",
   "execution_count": null,
   "id": "856cdb76-8788-43c5-a1de-21584c2f2522",
   "metadata": {},
   "outputs": [],
   "source": [
    "array1[0] = 9\n",
    "array1[8] = 0\n",
    "print(\"array1: \", array1)"
   ]
  },
  {
   "cell_type": "code",
   "execution_count": null,
   "id": "2b81e71a-e96b-4091-a84a-d9365b797bb5",
   "metadata": {},
   "outputs": [],
   "source": [
    "array1d = np.arange(start=1, stop=10)\n",
    "array2d = array1d.reshape(3, 3)\n",
    "print(array2d)\n",
    "\n",
    "print(\"(row=0, col=0) Index value: \", array2d[0, 0])\n",
    "print(\"(row=0, col=1) Index value: \", array2d[0, 1])\n",
    "print(\"(row=1, col=0) Index value: \", array2d[1, 0])\n",
    "print(\"(row=2, col=2) Index value: \", array2d[2, 2])"
   ]
  },
  {
   "cell_type": "code",
   "execution_count": null,
   "id": "e07c79e5-dc7a-4443-ae5c-fc09c8812379",
   "metadata": {},
   "outputs": [],
   "source": [
    "# Slicing Indexing\n",
    "array1 = np.arange(start=1, stop=10)\n",
    "print(\"array1: \", array1)\n",
    "\n",
    "array3 = array1[0:3]\n",
    "print(array3)\n",
    "print(type(array3))\n",
    "print(array3.shape)"
   ]
  },
  {
   "cell_type": "code",
   "execution_count": null,
   "id": "373e5343-fc9b-4929-b52b-8c809c98065a",
   "metadata": {},
   "outputs": [],
   "source": [
    "array1 = np.arange(1, 10)\n",
    "# 위치 Index 0-2(2포함)까지 추출\n",
    "array4 = array1[0:3]\n",
    "print(array4)\n",
    "\n",
    "# 위치 Index 3부터 마지막까지 추출\n",
    "array5 = array1[3:]\n",
    "print(array5)\n",
    "\n",
    "# 위치 Index로 전체 데이터 추출\n",
    "array6 = array1[:]\n",
    "print(array6)"
   ]
  },
  {
   "cell_type": "code",
   "execution_count": null,
   "id": "6cbd2270-a786-4b74-a7ca-cffc5293663e",
   "metadata": {},
   "outputs": [],
   "source": [
    "array1d = np.arange(1, 10)\n",
    "array2d = array1d.reshape(3, 3)\n",
    "print(\"array2d: \\n\", array2d)\n",
    "\n",
    "print(\"array2d[0:2, 0:2]: \\n\", array2d[0:2, 0:2])\n",
    "print(\"array2d[1:3, 0:3]: \\n\", array2d[1:3, 0:3])\n",
    "print(\"array2d[1:3, :]  : \\n\", array2d[1:3, :])\n",
    "print(\"array2d[:, :]    : \\n\", array2d[:, :])\n",
    "print(\"array2d[:2, 1:]  : \\n\", array2d[:2, 1:])\n",
    "print(\"array2d[:2, 0]   : \\n\", array2d[:2, 0])     # 단일 Index -> 차원 축소"
   ]
  },
  {
   "cell_type": "code",
   "execution_count": null,
   "id": "c9e03d41-2178-4b04-96de-78a4a62f9a6b",
   "metadata": {},
   "outputs": [],
   "source": [
    "print(array2d[0])\n",
    "print(array2d[1])\n",
    "print(\"array2d[0] shape: \", array2d[0].shape, \"array2d[1] shape: \", array2d[1].shape)"
   ]
  },
  {
   "cell_type": "code",
   "execution_count": null,
   "id": "adac4815-a522-4e2f-a268-e9685e51d3e7",
   "metadata": {},
   "outputs": [],
   "source": [
    "# Fancy Indexing\n",
    "array1d = np.arange(1, 10)\n",
    "array2d = array1d.reshape(3, 3)\n",
    "print(array2d)\n",
    "\n",
    "array3 = array2d[[0, 1], 2]\n",
    "print(\"array2d[[0, 1], 2]   => \", array3.tolist())\n",
    "\n",
    "array4 = array2d[[0, 1], 0:2]\n",
    "print(\"array2d[[0, 1], 0:2] => \", array4.tolist())\n",
    "\n",
    "array5 = array2d[[0, 1]]\n",
    "print(\"array2d[[0, 1]]      => \", array5.tolist())\n",
    "\n",
    "array6 = array2d[[1]]\n",
    "print(\"array2d[[1]]         => \", array6.tolist())"
   ]
  },
  {
   "cell_type": "code",
   "execution_count": null,
   "id": "3f01338d-799f-4b7d-9823-5bb1d7abec55",
   "metadata": {},
   "outputs": [],
   "source": [
    "# Boolean Indexing\n",
    "array1d = np.arange(1, 10)\n",
    "# [] 안에 \"array1d > 5\" Boolean 조건식을 적용\n",
    "array7 = array1d[array1d > 5]\n",
    "print(\"'array1d > 5' Boolean Indexing 결과 값: \", array7)"
   ]
  },
  {
   "cell_type": "code",
   "execution_count": null,
   "id": "9357d455-4684-426c-9339-d7fb935c04f2",
   "metadata": {},
   "outputs": [],
   "source": [
    "array1d > 5"
   ]
  },
  {
   "cell_type": "code",
   "execution_count": null,
   "id": "fa2dcd30-e9e0-4a59-8940-c62f9fb7c7fc",
   "metadata": {},
   "outputs": [],
   "source": [
    "val = array1d > 5\n",
    "print(val, type(val), val.shape)"
   ]
  },
  {
   "cell_type": "code",
   "execution_count": null,
   "id": "a68f1bf4-29b3-4c43-8dc8-0da2ae382986",
   "metadata": {},
   "outputs": [],
   "source": [
    "boolean_indexes = np.array([False, False, False, False, False,  True,  True,  True,  True])\n",
    "array8 = array1d[boolean_indexes]\n",
    "print(\"Boolean Index로 Filtering 결과: \", array8)"
   ]
  },
  {
   "cell_type": "code",
   "execution_count": null,
   "id": "5dad65d4-be44-47f0-abab-1efe429d7f29",
   "metadata": {},
   "outputs": [],
   "source": [
    "# Boolean Indexing을 적용하지 않은 경우\n",
    "array1d = np.arange(1, 10)\n",
    "target = []\n",
    "\n",
    "for i in range(0, 9):\n",
    "    if array1d[i] > 5 :\n",
    "        target.append(array1d[i])\n",
    "        \n",
    "array_selected = np.array(target)\n",
    "print(array_selected)"
   ]
  },
  {
   "cell_type": "code",
   "execution_count": null,
   "id": "2a9347b8-eb9f-4096-a1c9-1e105ef6e493",
   "metadata": {},
   "outputs": [],
   "source": [
    "indexs = np.array([5, 6, 7, 8])\n",
    "array9 = array1d[indexs]\n",
    "print(\"일반 Index Filtering 결과: \", array9) "
   ]
  },
  {
   "cell_type": "markdown",
   "id": "4101cb3d-d862-413f-9b33-9a3cff33184a",
   "metadata": {},
   "source": [
    "#### 배열의 정렬 - sort() & argsort()\n",
    ">- sort()\n",
    ">- np.sort(ndarray) : 인자로 들어온 원 행렬은 그대로 유지하고, 원 행렬의 정렬된 행렬 반환\n",
    ">- ndarray.sort()   : 원 행렬 자체를 정렬한 형태로 변환하며 반환 값은 None\n",
    ">- np.sort() or ndarray.sort() 모두 오름차순이 Default. 내림차순 정렬을 하기 위해 np.sort()[::-1]과 같이 사용  \n",
    "\n",
    ">- argsort()\n",
    ">- 원본 행렬 정렬 시, 정렬된 행렬의 원래 Index를 필요로 할 때 np.argsort()를 사용\n",
    ">- np.argsort()는 정렬 행렬의 원본 행렬 Index를 ndarray형으로 반환"
   ]
  },
  {
   "cell_type": "code",
   "execution_count": null,
   "id": "a994c9fd-2bfc-46cc-a80e-58449a0144c0",
   "metadata": {},
   "outputs": [],
   "source": [
    "org_array = np.array([3, 1, 9, 5])\n",
    "print(\"Original Array: \", org_array)\n",
    "\n",
    "# np.sort()로 정렬\n",
    "sort_array1 = np.sort(org_array)\n",
    "print(\"np.sort() 호출 후 반환 배열 : \", sort_array1)\n",
    "print(\"np.sort() 호출 후 원본 배열 : \", org_array)\n",
    "\n",
    "# ndarray.sort()로 정렬\n",
    "sort_array2 = org_array.sort()\n",
    "print(\"np.sort() 호출 후 반환 배열 : \", sort_array2)\n",
    "print(\"np.sort() 호출 후 원본 배열 : \", org_array)"
   ]
  },
  {
   "cell_type": "code",
   "execution_count": null,
   "id": "d0905850-7c95-425b-9dd1-cffab0ecbb5b",
   "metadata": {},
   "outputs": [],
   "source": [
    "sort_array1_desc = np.sort(org_array)[::-1]\n",
    "print(\"내림차순 정렬: \", sort_array1_desc)"
   ]
  },
  {
   "cell_type": "code",
   "execution_count": null,
   "id": "eba3b958-7302-47f9-829c-153b5b692298",
   "metadata": {},
   "outputs": [],
   "source": [
    "array2d = np.array([[8, 12],\n",
    "                    [7, 1]])\n",
    "\n",
    "sort_array2d_axis0 = np.sort(array2d, axis=0)\n",
    "print(\"Row 방향으로 정렬: \\n\", sort_array2d_axis0)\n",
    "\n",
    "sort_array2d_axis1 = np.sort(array2d, axis=1)\n",
    "print(\"Column 방향으로 정렬: \\n\", sort_array2d_axis1)"
   ]
  },
  {
   "cell_type": "code",
   "execution_count": null,
   "id": "417f16db-f55a-4123-9a4e-2612660b56a6",
   "metadata": {},
   "outputs": [],
   "source": [
    "# 정렬 행렬의 Index 반환 - argsort()\n",
    "org_array = np.array([3, 1, 9, 5])\n",
    "sort_indices = np.argsort(org_array)\n",
    "print(type(sort_indices))\n",
    "print(\"행렬 정렬 시 원본 배열의 Index: \", sort_indices)"
   ]
  },
  {
   "cell_type": "code",
   "execution_count": null,
   "id": "8c94d543-dcb7-475f-9452-bcf1351c1c2d",
   "metadata": {},
   "outputs": [],
   "source": [
    "org_array = np.array([3, 1, 9, 5])\n",
    "sort_indices_desc = np.argsort(org_array)[::-1]\n",
    "print(\"행렬 내림차순 정렬 시 원본 배열의 Index: \", sort_indices_desc)"
   ]
  },
  {
   "cell_type": "code",
   "execution_count": null,
   "id": "80d40113-7267-46b6-8542-850eebfe85d8",
   "metadata": {},
   "outputs": [],
   "source": [
    "name_array = np.array(['John', 'Mike', 'Sarah', 'Kate', 'Sanuel'])\n",
    "score_array = np.array([78, 95, 84, 98, 88])\n",
    "\n",
    "sort_indices_asc = np.argsort(score_array)\n",
    "print(\"성적 오름차순 정렬 시 socre_array의 Index: \", sort_indices_asc)\n",
    "print(\"성적 오름차순으로 name_array의 name 출력 : \", name_array[sort_indices_asc]) "
   ]
  },
  {
   "cell_type": "markdown",
   "id": "5ce00bce-d1fa-4d40-863a-9bd54c09cea9",
   "metadata": {},
   "source": [
    "#### 선형대수 연산\n",
    ">- 행렬 내적: np.dot(A, B)\n",
    ">- 전치 행렬: np.transpose(A) "
   ]
  },
  {
   "cell_type": "code",
   "execution_count": null,
   "id": "d7d4acfa-6649-474d-a2fe-abb078d13cbd",
   "metadata": {},
   "outputs": [],
   "source": [
    "# 행렬 내적\n",
    "A = np.arange(1, 7).reshape(2, -1)\n",
    "B = np.arange(7, 13).reshape(3, -1)\n",
    "\n",
    "dot_product = np.dot(A, B)\n",
    "print(\"행렬 내적 결과: \\n\", dot_product)"
   ]
  },
  {
   "cell_type": "code",
   "execution_count": null,
   "id": "3930db2f-6980-4f89-b53f-41364891ae2a",
   "metadata": {},
   "outputs": [],
   "source": [
    "# 전치 행렬\n",
    "C = np.arange(1, 5).reshape(2, -1)\n",
    "transpose_mat = np.transpose(C)\n",
    "print(\"C의 전치행렬: \\n\", transpose_mat)"
   ]
  },
  {
   "cell_type": "code",
   "execution_count": null,
   "id": "d8cc4769-07a2-4967-98e7-82a7fb3e6fdb",
   "metadata": {},
   "outputs": [],
   "source": []
  },
  {
   "cell_type": "code",
   "execution_count": null,
   "id": "bd854ac4-e49a-4af9-bbc4-e82791fa5cb4",
   "metadata": {},
   "outputs": [],
   "source": []
  },
  {
   "cell_type": "code",
   "execution_count": null,
   "id": "6a2e6657-3800-46c7-a0b4-038a073c50a8",
   "metadata": {},
   "outputs": [],
   "source": []
  },
  {
   "cell_type": "code",
   "execution_count": null,
   "id": "d5c7712c-baf1-491c-b05b-7337e60d96b8",
   "metadata": {},
   "outputs": [],
   "source": []
  }
 ],
 "metadata": {
  "kernelspec": {
   "display_name": "Python 3 (ipykernel)",
   "language": "python",
   "name": "python3"
  },
  "language_info": {
   "codemirror_mode": {
    "name": "ipython",
    "version": 3
   },
   "file_extension": ".py",
   "mimetype": "text/x-python",
   "name": "python",
   "nbconvert_exporter": "python",
   "pygments_lexer": "ipython3",
   "version": "3.8.12"
  }
 },
 "nbformat": 4,
 "nbformat_minor": 5
}
